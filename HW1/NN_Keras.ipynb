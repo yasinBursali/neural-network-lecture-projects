{
  "nbformat": 4,
  "nbformat_minor": 0,
  "metadata": {
    "colab": {
      "name": "NN_Keras.ipynb",
      "provenance": [],
      "collapsed_sections": [],
      "machine_shape": "hm"
    },
    "kernelspec": {
      "name": "python3",
      "display_name": "Python 3"
    }
  },
  "cells": [
    {
      "cell_type": "code",
      "metadata": {
        "id": "wQa4kOFXKABS",
        "colab_type": "code",
        "colab": {}
      },
      "source": [
        "# For tensorflow 2.0 keras import must be from tensorflow.keras\n",
        "from tensorflow.keras.datasets import imdb\n",
        "from tensorflow.keras import models\n",
        "from tensorflow.keras import layers\n",
        "import datetime, os\n",
        "import numpy as np\n",
        "\n",
        "# # Load the TensorBoard notebook extension\n",
        "# %load_ext tensorboard\n",
        "\n",
        "# from tensorflow.keras.callbacks import TensorBoard\n",
        "\n",
        "# logdir = os.path.join(\"logs\", datetime.datetime.now().strftime(\"%Y%m%d-%H%M%S\"))\n",
        "# tensorboard_callback = TensorBoard(logdir)"
      ],
      "execution_count": 0,
      "outputs": []
    },
    {
      "cell_type": "code",
      "metadata": {
        "id": "yTe0fISeKRlN",
        "colab_type": "code",
        "colab": {}
      },
      "source": [
        "# perform one hot encoding\n",
        "def vectorize_sequences(sequences, dimension=10000):\n",
        "\n",
        "    results = np.zeros((len(sequences), dimension))\n",
        "\n",
        "    for i, sequences in enumerate(sequences):\n",
        "        \n",
        "        results[i, sequences] = 1.\n",
        "    \n",
        "    return results"
      ],
      "execution_count": 0,
      "outputs": []
    },
    {
      "cell_type": "code",
      "metadata": {
        "id": "mvDyWEcTKKzV",
        "colab_type": "code",
        "outputId": "9ba68e21-341f-4ac8-a9cb-e87bde1df244",
        "colab": {
          "base_uri": "https://localhost:8080/",
          "height": 52
        }
      },
      "source": [
        "# load the imbd data \n",
        "# Consider 10000 Top most frequent words \n",
        "(train_data, train_labels), (test_data, test_labels) = imdb.load_data(num_words=10000)\n"
      ],
      "execution_count": 3,
      "outputs": [
        {
          "output_type": "stream",
          "text": [
            "Downloading data from https://storage.googleapis.com/tensorflow/tf-keras-datasets/imdb.npz\n",
            "17465344/17464789 [==============================] - 0s 0us/step\n"
          ],
          "name": "stdout"
        }
      ]
    },
    {
      "cell_type": "code",
      "metadata": {
        "id": "V1HeaF5mNvhl",
        "colab_type": "code",
        "colab": {}
      },
      "source": [
        "train_data[0] "
      ],
      "execution_count": 0,
      "outputs": []
    },
    {
      "cell_type": "code",
      "metadata": {
        "id": "hDYp3ijjJHOy",
        "colab_type": "code",
        "outputId": "64450dbe-e901-487f-ec55-b2b3d00692b8",
        "colab": {
          "base_uri": "https://localhost:8080/",
          "height": 86
        }
      },
      "source": [
        "# words are indexed by overall frequency in the dataset, \n",
        "# so that for instance the integer \"3\" encodes the 3rd most frequent word in the data. \n",
        "\n",
        "word_index = imdb.get_word_index()\n",
        "\n",
        "# to see the index of Word giraffe\n",
        "print('index of word giraffe {}'.format(word_index['giraffe']))\n",
        "\n",
        "\n",
        "# to see the most frequently used word in the database\n",
        "topkeyWord = [topkey for topkey, value in word_index.items() if value == 1]\n",
        "\n",
        "print('the most frequently used word in the database {}'.format(topkeyWord))"
      ],
      "execution_count": 5,
      "outputs": [
        {
          "output_type": "stream",
          "text": [
            "Downloading data from https://storage.googleapis.com/tensorflow/tf-keras-datasets/imdb_word_index.json\n",
            "1646592/1641221 [==============================] - 0s 0us/step\n",
            "index of word giraffe 48148\n",
            "the most frequently used word in the database ['the']\n"
          ],
          "name": "stdout"
        }
      ]
    },
    {
      "cell_type": "code",
      "metadata": {
        "id": "-B3xTMDmcbad",
        "colab_type": "code",
        "colab": {}
      },
      "source": [
        "# pre-process the training data with one hot encoding\n",
        "x_train = vectorize_sequences(train_data)\n",
        "x_test = vectorize_sequences(test_data)\n",
        "\n",
        "\n",
        "# convert binary labels into float\n",
        "y_train = np.asarray(train_labels).astype('float32')\n",
        "y_test = np.asarray(test_labels).astype('float32')\n",
        "\n",
        "\n",
        "# out of training seperate validation data \n",
        "x_val = x_train[:10000]\n",
        "partial_x_train = x_train[10000: ]\n",
        "\n",
        "# out of training seperate validation labels\n",
        "y_val = y_train[:10000]\n",
        "partial_y_train = y_train[10000:]\n",
        "\n"
      ],
      "execution_count": 0,
      "outputs": []
    },
    {
      "cell_type": "code",
      "metadata": {
        "id": "3itVI2IkKxwm",
        "colab_type": "code",
        "colab": {}
      },
      "source": [
        "\n",
        "# build a NN model framework (a computational graph)\n",
        "model = models.Sequential()\n",
        "model.add(layers.Dense(16, activation= 'relu', input_shape= (10000, )))\n",
        "model.add(layers.Dense(16, activation='relu'))\n",
        "model.add(layers.Dense(1, activation='sigmoid'))\n",
        "\n",
        "# Configures the model for training\n",
        "model.compile(optimizer='rmsprop',\n",
        "              loss='binary_crossentropy',\n",
        "              metrics=['accuracy'])\n",
        "\n"
      ],
      "execution_count": 0,
      "outputs": []
    },
    {
      "cell_type": "code",
      "metadata": {
        "id": "XkbFOEGWxSG6",
        "colab_type": "code",
        "outputId": "1fe0983a-3d8f-4a86-a332-f164dd740ca8",
        "colab": {
          "base_uri": "https://localhost:8080/",
          "height": 363
        }
      },
      "source": [
        "# Trains the model for a fixed number of epochs (iterations on a dataset)\n",
        "\n",
        "history = model.fit(partial_x_train,\n",
        "                    partial_y_train,\n",
        "                    epochs=10,\n",
        "                    batch_size=512,\n",
        "                    validation_data=(x_val, y_val)) \n",
        "                "
      ],
      "execution_count": 8,
      "outputs": [
        {
          "output_type": "stream",
          "text": [
            "Epoch 1/10\n",
            "30/30 [==============================] - 1s 34ms/step - loss: 0.5490 - accuracy: 0.7573 - val_loss: 0.4272 - val_accuracy: 0.8602\n",
            "Epoch 2/10\n",
            "30/30 [==============================] - 1s 29ms/step - loss: 0.3414 - accuracy: 0.8995 - val_loss: 0.3278 - val_accuracy: 0.8834\n",
            "Epoch 3/10\n",
            "30/30 [==============================] - 1s 32ms/step - loss: 0.2464 - accuracy: 0.9233 - val_loss: 0.3101 - val_accuracy: 0.8761\n",
            "Epoch 4/10\n",
            "30/30 [==============================] - 1s 33ms/step - loss: 0.1941 - accuracy: 0.9392 - val_loss: 0.2754 - val_accuracy: 0.8904\n",
            "Epoch 5/10\n",
            "30/30 [==============================] - 1s 33ms/step - loss: 0.1587 - accuracy: 0.9526 - val_loss: 0.3077 - val_accuracy: 0.8767\n",
            "Epoch 6/10\n",
            "30/30 [==============================] - 1s 33ms/step - loss: 0.1312 - accuracy: 0.9601 - val_loss: 0.2910 - val_accuracy: 0.8869\n",
            "Epoch 7/10\n",
            "30/30 [==============================] - 1s 33ms/step - loss: 0.1089 - accuracy: 0.9684 - val_loss: 0.3002 - val_accuracy: 0.8835\n",
            "Epoch 8/10\n",
            "30/30 [==============================] - 1s 33ms/step - loss: 0.0939 - accuracy: 0.9731 - val_loss: 0.3246 - val_accuracy: 0.8804\n",
            "Epoch 9/10\n",
            "30/30 [==============================] - 1s 32ms/step - loss: 0.0715 - accuracy: 0.9821 - val_loss: 0.3401 - val_accuracy: 0.8803\n",
            "Epoch 10/10\n",
            "30/30 [==============================] - 1s 24ms/step - loss: 0.0626 - accuracy: 0.9843 - val_loss: 0.3642 - val_accuracy: 0.8792\n"
          ],
          "name": "stdout"
        }
      ]
    },
    {
      "cell_type": "code",
      "metadata": {
        "id": "ojEjzt-64pSQ",
        "colab_type": "code",
        "colab": {}
      },
      "source": [
        "# Train with a Callback to TensorBoard\n",
        "# history = model.fit(partial_x_train,\n",
        "#                     partial_y_train,\n",
        "#                     epochs=4,\n",
        "#                     batch_size=512,\n",
        "#                     validation_data=(x_val, y_val),\n",
        "#                     callbacks= [tensorboard_callback])\n",
        "\n",
        "\n",
        "# %tensorboard --logdir logs\n",
        "\n",
        "# from tensorboard import notebook\n",
        "# notebook.list() # View open TensorBoard instances\n",
        "\n",
        "\n",
        "# # Control TensorBoard display. If no port is provided, \n",
        "# # the most recently launched TensorBoard is used\n",
        "# notebook.display(port=6006, height=1000)"
      ],
      "execution_count": 0,
      "outputs": []
    },
    {
      "cell_type": "code",
      "metadata": {
        "id": "jz_-GX69K_DT",
        "colab_type": "code",
        "outputId": "8ea25f24-a71c-4647-af7f-f6ae5589d7ec",
        "colab": {
          "base_uri": "https://localhost:8080/",
          "height": 52
        }
      },
      "source": [
        "\n",
        "# Returns the loss value & metrics values for the model in test mode.\n",
        "\n",
        "\n",
        "results = model.evaluate(x_test, y_test)\n",
        "print('results {}'.format(results))"
      ],
      "execution_count": 9,
      "outputs": [
        {
          "output_type": "stream",
          "text": [
            "782/782 [==============================] - 1s 1ms/step - loss: 0.3994 - accuracy: 0.8672\n",
            "results [0.3994337320327759, 0.8672000169754028]\n"
          ],
          "name": "stdout"
        }
      ]
    },
    {
      "cell_type": "code",
      "metadata": {
        "id": "CtpYN5z5Lau1",
        "colab_type": "code",
        "outputId": "e4fab61f-e19a-4f8c-d8f7-959b60a0804b",
        "colab": {
          "base_uri": "https://localhost:8080/",
          "height": 138
        }
      },
      "source": [
        "# Generates output predictions for the input samples x_test\n",
        "print('predicted test results {}'.format(model.predict(x_test)))"
      ],
      "execution_count": 10,
      "outputs": [
        {
          "output_type": "stream",
          "text": [
            "predicted test results [[0.06482509]\n",
            " [0.9995192 ]\n",
            " [0.7324914 ]\n",
            " ...\n",
            " [0.03584835]\n",
            " [0.01770636]\n",
            " [0.3618794 ]]\n"
          ],
          "name": "stdout"
        }
      ]
    },
    {
      "cell_type": "code",
      "metadata": {
        "id": "y0n09M-sd4i9",
        "colab_type": "code",
        "colab": {}
      },
      "source": [
        "import matplotlib.pyplot as plt   \n",
        "\n"
      ],
      "execution_count": 0,
      "outputs": []
    },
    {
      "cell_type": "code",
      "metadata": {
        "id": "2qzze2BzduKm",
        "colab_type": "code",
        "outputId": "298452b6-7d01-4e43-94ff-49eb10572738",
        "colab": {
          "base_uri": "https://localhost:8080/",
          "height": 35
        }
      },
      "source": [
        "history_dict = history.history\n",
        "history_dict.keys()\n"
      ],
      "execution_count": 12,
      "outputs": [
        {
          "output_type": "execute_result",
          "data": {
            "text/plain": [
              "dict_keys(['loss', 'accuracy', 'val_loss', 'val_accuracy'])"
            ]
          },
          "metadata": {
            "tags": []
          },
          "execution_count": 12
        }
      ]
    },
    {
      "cell_type": "code",
      "metadata": {
        "id": "xhiEeNi2qUQB",
        "colab_type": "code",
        "outputId": "6335159f-7494-41da-a52f-1e358e6ff295",
        "colab": {
          "base_uri": "https://localhost:8080/",
          "height": 296
        }
      },
      "source": [
        "plt.plot(history_dict['val_accuracy'], label='Validation Accuracy', color ='blue',marker = '*')\n",
        "plt.plot(history_dict['accuracy'], label='Training Accuracy', color='red',marker = 'o')\n",
        "plt.xlabel('Epochs')\n",
        "plt.ylabel('Accuracy')\n",
        "plt.legend()"
      ],
      "execution_count": 13,
      "outputs": [
        {
          "output_type": "execute_result",
          "data": {
            "text/plain": [
              "<matplotlib.legend.Legend at 0x7fe391160c18>"
            ]
          },
          "metadata": {
            "tags": []
          },
          "execution_count": 13
        },
        {
          "output_type": "display_data",
          "data": {
            "image/png": "[encoded data removed]",
            "text/plain": [
              "<Figure size 432x288 with 1 Axes>"
            ]
          },
          "metadata": {
            "tags": []
          }
        }
      ]
    },
    {
      "cell_type": "code",
      "metadata": {
        "id": "EAoIjIOueK42",
        "colab_type": "code",
        "outputId": "587c3666-f2df-4614-e497-d4f81cc09387",
        "colab": {
          "base_uri": "https://localhost:8080/",
          "height": 296
        }
      },
      "source": [
        "plt.plot(history_dict['val_loss'], label='Validation Loss', color ='blue',marker = '*')\n",
        "plt.plot(history_dict['loss'], label='Training Loss', color='red',marker = 'o')\n",
        "plt.xlabel('Epochs')\n",
        "plt.ylabel('Loss')\n",
        "plt.legend()"
      ],
      "execution_count": 14,
      "outputs": [
        {
          "output_type": "execute_result",
          "data": {
            "text/plain": [
              "<matplotlib.legend.Legend at 0x7fe390c93160>"
            ]
          },
          "metadata": {
            "tags": []
          },
          "execution_count": 14
        },
        {
          "output_type": "display_data",
          "data": {
            "image/png": "[encoded data removed]",
            "text/plain": [
              "<Figure size 432x288 with 1 Axes>"
            ]
          },
          "metadata": {
            "tags": []
          }
        }
      ]
    }
  ]
}